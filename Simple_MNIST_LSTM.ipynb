{
  "nbformat": 4,
  "nbformat_minor": 0,
  "metadata": {
    "colab": {
      "name": "Simple-MNIST-LSTM.ipynb",
      "version": "0.3.2",
      "provenance": [],
      "include_colab_link": true
    },
    "kernelspec": {
      "name": "python3",
      "display_name": "Python 3"
    },
    "accelerator": "GPU"
  },
  "cells": [
    {
      "cell_type": "markdown",
      "metadata": {
        "id": "view-in-github",
        "colab_type": "text"
      },
      "source": [
        "<a href=\"https://colab.research.google.com/github/Xterminator007/GoogleColab/blob/master/Simple_MNIST_LSTM.ipynb\" target=\"_parent\"><img src=\"https://colab.research.google.com/assets/colab-badge.svg\" alt=\"Open In Colab\"/></a>"
      ]
    },
    {
      "cell_type": "code",
      "metadata": {
        "id": "2WUfQ7rc0gIx",
        "colab_type": "code",
        "colab": {
          "base_uri": "https://localhost:8080/",
          "height": 34
        },
        "outputId": "10e8cd3e-7cd9-4b40-d68d-d05626a4036d"
      },
      "source": [
        "import keras\n",
        "from keras.datasets import mnist\n",
        "from keras.models import Sequential\n",
        "from keras.layers import CuDNNLSTM, Dense, Dropout, LSTM\n",
        "from keras.optimizers import Adam"
      ],
      "execution_count": 1,
      "outputs": [
        {
          "output_type": "stream",
          "text": [
            "Using TensorFlow backend.\n"
          ],
          "name": "stderr"
        }
      ]
    },
    {
      "cell_type": "code",
      "metadata": {
        "id": "-uEfa2Us23RM",
        "colab_type": "code",
        "colab": {
          "base_uri": "https://localhost:8080/",
          "height": 50
        },
        "outputId": "cd8b74ce-2d96-427e-b53f-94a24356544a"
      },
      "source": [
        "# Import and Preprocessing MNIST data\n",
        "\n",
        "(X_train, y_train), (X_test, y_test) = mnist.load_data() # unpacks images to x_train/y_train and labels to x_test/y_test\n",
        "\n",
        "# Normalize the data\n",
        "X_train = X_train.astype('float32') / 255.0\n",
        "X_test = X_test.astype('float32') / 255.0"
      ],
      "execution_count": 2,
      "outputs": [
        {
          "output_type": "stream",
          "text": [
            "Downloading data from https://s3.amazonaws.com/img-datasets/mnist.npz\n",
            "11493376/11490434 [==============================] - 1s 0us/step\n"
          ],
          "name": "stdout"
        }
      ]
    },
    {
      "cell_type": "code",
      "metadata": {
        "id": "txG2cwOvzV8g",
        "colab_type": "code",
        "outputId": "335015df-cef9-4194-b754-3e1793b8030e",
        "colab": {
          "base_uri": "https://localhost:8080/",
          "height": 238
        }
      },
      "source": [
        "# Creating an LSTM Network\n",
        "# Initializing the classifier Network\n",
        "\n",
        "classifier = Sequential()\n",
        "\n",
        "\n",
        "# Adding the input LSTM network layer\n",
        "classifier.add(CuDNNLSTM(128, input_shape=(X_train.shape[1:]), return_sequences = True))\n",
        "classifier.add(Dropout(0.2))\n",
        "\n",
        "# Adding a second LSTM n/w layer\n",
        "classifier.add(CuDNNLSTM(128))\n",
        "\n",
        "#Adding a dense hidden layer\n",
        "classifier.add(Dense(64, activation ='relu'))\n",
        "classifier.add(Dropout(0.2))\n",
        "\n",
        "# Adding the output layer\n",
        "classifier.add(Dense(10, activation = 'softmax'))"
      ],
      "execution_count": 3,
      "outputs": [
        {
          "output_type": "stream",
          "text": [
            "WARNING: Logging before flag parsing goes to stderr.\n",
            "W0814 16:31:09.968848 140242075731840 deprecation_wrapper.py:119] From /usr/local/lib/python3.6/dist-packages/keras/backend/tensorflow_backend.py:74: The name tf.get_default_graph is deprecated. Please use tf.compat.v1.get_default_graph instead.\n",
            "\n",
            "W0814 16:31:10.003473 140242075731840 deprecation_wrapper.py:119] From /usr/local/lib/python3.6/dist-packages/keras/backend/tensorflow_backend.py:517: The name tf.placeholder is deprecated. Please use tf.compat.v1.placeholder instead.\n",
            "\n",
            "W0814 16:31:12.081555 140242075731840 deprecation_wrapper.py:119] From /usr/local/lib/python3.6/dist-packages/keras/backend/tensorflow_backend.py:4138: The name tf.random_uniform is deprecated. Please use tf.random.uniform instead.\n",
            "\n",
            "W0814 16:31:12.234889 140242075731840 deprecation_wrapper.py:119] From /usr/local/lib/python3.6/dist-packages/keras/backend/tensorflow_backend.py:133: The name tf.placeholder_with_default is deprecated. Please use tf.compat.v1.placeholder_with_default instead.\n",
            "\n",
            "W0814 16:31:12.245220 140242075731840 deprecation.py:506] From /usr/local/lib/python3.6/dist-packages/keras/backend/tensorflow_backend.py:3445: calling dropout (from tensorflow.python.ops.nn_ops) with keep_prob is deprecated and will be removed in a future version.\n",
            "Instructions for updating:\n",
            "Please use `rate` instead of `keep_prob`. Rate should be set to `rate = 1 - keep_prob`.\n"
          ],
          "name": "stderr"
        }
      ]
    },
    {
      "cell_type": "code",
      "metadata": {
        "id": "EDUj24fQ1M01",
        "colab_type": "code",
        "outputId": "038de222-c11f-4f2c-e656-6bb87edd4345",
        "colab": {
          "base_uri": "https://localhost:8080/",
          "height": 524
        }
      },
      "source": [
        "# Compiling the LSTM Network and Fitting the data\n",
        "\n",
        "# Compiling the network\n",
        "classifier.compile(loss ='sparse_categorical_crossentropy', optimizer = Adam(lr = 0.001, decay= 1e-6), metrics =['accuracy'])\n",
        "\n",
        "#Fitting the data to the model\n",
        "classifier.fit(X_train, y_train, epochs = 10, validation_data = (X_test, y_test))"
      ],
      "execution_count": 4,
      "outputs": [
        {
          "output_type": "stream",
          "text": [
            "W0814 16:31:12.561419 140242075731840 deprecation_wrapper.py:119] From /usr/local/lib/python3.6/dist-packages/keras/optimizers.py:790: The name tf.train.Optimizer is deprecated. Please use tf.compat.v1.train.Optimizer instead.\n",
            "\n",
            "W0814 16:31:12.568803 140242075731840 deprecation_wrapper.py:119] From /usr/local/lib/python3.6/dist-packages/keras/backend/tensorflow_backend.py:3341: The name tf.log is deprecated. Please use tf.math.log instead.\n",
            "\n",
            "W0814 16:31:12.665133 140242075731840 deprecation.py:323] From /usr/local/lib/python3.6/dist-packages/tensorflow/python/ops/math_grad.py:1250: add_dispatch_support.<locals>.wrapper (from tensorflow.python.ops.array_ops) is deprecated and will be removed in a future version.\n",
            "Instructions for updating:\n",
            "Use tf.where in 2.0, which has the same broadcast rule as np.where\n"
          ],
          "name": "stderr"
        },
        {
          "output_type": "stream",
          "text": [
            "Train on 60000 samples, validate on 10000 samples\n",
            "Epoch 1/10\n",
            "60000/60000 [==============================] - 20s 331us/step - loss: 0.3550 - acc: 0.8893 - val_loss: 0.1123 - val_acc: 0.9648\n",
            "Epoch 2/10\n",
            "60000/60000 [==============================] - 13s 223us/step - loss: 0.1072 - acc: 0.9693 - val_loss: 0.0786 - val_acc: 0.9780\n",
            "Epoch 3/10\n",
            "60000/60000 [==============================] - 14s 228us/step - loss: 0.0731 - acc: 0.9791 - val_loss: 0.0566 - val_acc: 0.9846\n",
            "Epoch 4/10\n",
            "60000/60000 [==============================] - 13s 224us/step - loss: 0.0565 - acc: 0.9839 - val_loss: 0.0544 - val_acc: 0.9852\n",
            "Epoch 5/10\n",
            "60000/60000 [==============================] - 13s 223us/step - loss: 0.0475 - acc: 0.9860 - val_loss: 0.0674 - val_acc: 0.9821\n",
            "Epoch 6/10\n",
            "60000/60000 [==============================] - 13s 224us/step - loss: 0.0397 - acc: 0.9888 - val_loss: 0.0389 - val_acc: 0.9888\n",
            "Epoch 7/10\n",
            "60000/60000 [==============================] - 13s 222us/step - loss: 0.0336 - acc: 0.9900 - val_loss: 0.0429 - val_acc: 0.9873\n",
            "Epoch 8/10\n",
            "60000/60000 [==============================] - 13s 222us/step - loss: 0.0300 - acc: 0.9910 - val_loss: 0.0447 - val_acc: 0.9888\n",
            "Epoch 9/10\n",
            "60000/60000 [==============================] - 13s 222us/step - loss: 0.0267 - acc: 0.9920 - val_loss: 0.0447 - val_acc: 0.9880\n",
            "Epoch 10/10\n",
            "60000/60000 [==============================] - 13s 222us/step - loss: 0.0241 - acc: 0.9926 - val_loss: 0.0438 - val_acc: 0.9873\n"
          ],
          "name": "stdout"
        },
        {
          "output_type": "execute_result",
          "data": {
            "text/plain": [
              "<keras.callbacks.History at 0x7f8c5c8bccf8>"
            ]
          },
          "metadata": {
            "tags": []
          },
          "execution_count": 4
        }
      ]
    },
    {
      "cell_type": "code",
      "metadata": {
        "id": "eV0vjYTO0dSL",
        "colab_type": "code",
        "outputId": "2fd7d4c7-efa5-4466-c1c9-71c36a721c62",
        "colab": {
          "base_uri": "https://localhost:8080/",
          "height": 67
        }
      },
      "source": [
        "# Checking the Accuracy on Test Set\n",
        "\n",
        "test_loss, test_acc = classifier.evaluate(X_test, y_test)\n",
        "print('Test loss: {}'.format(test_loss))\n",
        "print('Test Accuracy: {}'.format(test_acc))"
      ],
      "execution_count": 5,
      "outputs": [
        {
          "output_type": "stream",
          "text": [
            "10000/10000 [==============================] - 1s 87us/step\n",
            "Test loss: 0.043787754815921655\n",
            "Test Accuracy: 0.9873\n"
          ],
          "name": "stdout"
        }
      ]
    }
  ]
}