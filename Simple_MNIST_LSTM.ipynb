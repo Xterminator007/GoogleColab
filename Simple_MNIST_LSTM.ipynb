{
  "nbformat": 4,
  "nbformat_minor": 0,
  "metadata": {
    "colab": {
      "name": "Simple-MNIST-LSTM.ipynb",
      "version": "0.3.2",
      "provenance": [],
      "include_colab_link": true
    },
    "kernelspec": {
      "name": "python3",
      "display_name": "Python 3"
    },
    "accelerator": "GPU"
  },
  "cells": [
    {
      "cell_type": "markdown",
      "metadata": {
        "id": "view-in-github",
        "colab_type": "text"
      },
      "source": [
        "<a href=\"https://colab.research.google.com/github/Xterminator007/GoogleColab/blob/master/Simple_MNIST_LSTM.ipynb\" target=\"_parent\"><img src=\"https://colab.research.google.com/assets/colab-badge.svg\" alt=\"Open In Colab\"/></a>"
      ]
    },
    {
      "cell_type": "code",
      "metadata": {
        "id": "2WUfQ7rc0gIx",
        "colab_type": "code",
        "colab": {}
      },
      "source": [
        "import keras\n",
        "from keras.datasets import mnist\n",
        "from keras.models import Sequential\n",
        "from keras.layers import CuDNNLSTM, Dense, Dropout, LSTM\n",
        "from keras.optimizers import Adam"
      ],
      "execution_count": 0,
      "outputs": []
    },
    {
      "cell_type": "code",
      "metadata": {
        "id": "-uEfa2Us23RM",
        "colab_type": "code",
        "colab": {}
      },
      "source": [
        "# Import and Preprocessing MNIST data\n",
        "\n",
        "(X_train, y_train), (X_test, y_test) = mnist.load_data() # unpacks images to x_train/y_train and labels to x_test/y_test\n",
        "\n",
        "# Normalize the data\n",
        "X_train = X_train.astype('float32') / 255.0\n",
        "X_test = X_test.astype('float32') / 255.0"
      ],
      "execution_count": 0,
      "outputs": []
    },
    {
      "cell_type": "code",
      "metadata": {
        "id": "txG2cwOvzV8g",
        "colab_type": "code",
        "colab": {
          "base_uri": "https://localhost:8080/",
          "height": 541
        },
        "outputId": "5ed5a4a5-9886-4d17-dc75-4da2e7215b44"
      },
      "source": [
        "# Creating an LSTM Network\n",
        "# Initializing the classifier Network\n",
        "\n",
        "classifier = Sequential()\n",
        "\n",
        "\n",
        "# Adding the input LSTM network layer\n",
        "classifier.add(CuDNNLSTM(128, input_shape=(X_train.shape[1:]), return_sequences = True))\n",
        "classifier.add(Dropout(0.2))\n",
        "\n",
        "# Adding a second LSTM n/w layer\n",
        "classifier.add(CuDNNLSTM(128))\n",
        "\n",
        "#Adding a dense hidden layer\n",
        "classifier.add(Dense(64, activation ='relu'))\n",
        "classifier.add(Dropout(0.2))\n",
        "\n",
        "# Adding the output layer\n",
        "classifier.add(Dense(10, activation = 'softmax'))\n",
        "\n"
      ],
      "execution_count": 3,
      "outputs": [
        {
          "output_type": "stream",
          "text": [
            "Using TensorFlow backend.\n"
          ],
          "name": "stderr"
        },
        {
          "output_type": "stream",
          "text": [
            "Downloading data from https://s3.amazonaws.com/img-datasets/mnist.npz\n",
            "11493376/11490434 [==============================] - 0s 0us/step\n"
          ],
          "name": "stdout"
        },
        {
          "output_type": "stream",
          "text": [
            "WARNING: Logging before flag parsing goes to stderr.\n",
            "W0814 15:51:21.485606 140236169140096 deprecation_wrapper.py:119] From /usr/local/lib/python3.6/dist-packages/keras/backend/tensorflow_backend.py:74: The name tf.get_default_graph is deprecated. Please use tf.compat.v1.get_default_graph instead.\n",
            "\n",
            "W0814 15:51:21.492322 140236169140096 deprecation_wrapper.py:119] From /usr/local/lib/python3.6/dist-packages/keras/backend/tensorflow_backend.py:517: The name tf.placeholder is deprecated. Please use tf.compat.v1.placeholder instead.\n",
            "\n",
            "W0814 15:51:23.765161 140236169140096 deprecation_wrapper.py:119] From /usr/local/lib/python3.6/dist-packages/keras/backend/tensorflow_backend.py:4138: The name tf.random_uniform is deprecated. Please use tf.random.uniform instead.\n",
            "\n",
            "W0814 15:51:23.913795 140236169140096 deprecation_wrapper.py:119] From /usr/local/lib/python3.6/dist-packages/keras/backend/tensorflow_backend.py:133: The name tf.placeholder_with_default is deprecated. Please use tf.compat.v1.placeholder_with_default instead.\n",
            "\n",
            "W0814 15:51:23.923656 140236169140096 deprecation.py:506] From /usr/local/lib/python3.6/dist-packages/keras/backend/tensorflow_backend.py:3445: calling dropout (from tensorflow.python.ops.nn_ops) with keep_prob is deprecated and will be removed in a future version.\n",
            "Instructions for updating:\n",
            "Please use `rate` instead of `keep_prob`. Rate should be set to `rate = 1 - keep_prob`.\n",
            "W0814 15:51:24.246803 140236169140096 deprecation_wrapper.py:119] From /usr/local/lib/python3.6/dist-packages/keras/optimizers.py:790: The name tf.train.Optimizer is deprecated. Please use tf.compat.v1.train.Optimizer instead.\n",
            "\n",
            "W0814 15:51:24.252745 140236169140096 deprecation_wrapper.py:119] From /usr/local/lib/python3.6/dist-packages/keras/backend/tensorflow_backend.py:3341: The name tf.log is deprecated. Please use tf.math.log instead.\n",
            "\n",
            "W0814 15:51:24.354751 140236169140096 deprecation.py:323] From /usr/local/lib/python3.6/dist-packages/tensorflow/python/ops/math_grad.py:1250: add_dispatch_support.<locals>.wrapper (from tensorflow.python.ops.array_ops) is deprecated and will be removed in a future version.\n",
            "Instructions for updating:\n",
            "Use tf.where in 2.0, which has the same broadcast rule as np.where\n"
          ],
          "name": "stderr"
        },
        {
          "output_type": "stream",
          "text": [
            "Train on 60000 samples, validate on 10000 samples\n",
            "Epoch 1/3\n",
            "60000/60000 [==============================] - 20s 339us/step - loss: 0.3800 - acc: 0.8780 - val_loss: 0.1261 - val_acc: 0.9617\n",
            "Epoch 2/3\n",
            "60000/60000 [==============================] - 15s 244us/step - loss: 0.1077 - acc: 0.9695 - val_loss: 0.0733 - val_acc: 0.9781\n",
            "Epoch 3/3\n",
            "60000/60000 [==============================] - 14s 242us/step - loss: 0.0724 - acc: 0.9790 - val_loss: 0.0610 - val_acc: 0.9819\n"
          ],
          "name": "stdout"
        },
        {
          "output_type": "execute_result",
          "data": {
            "text/plain": [
              "<keras.callbacks.History at 0x7f8a93043630>"
            ]
          },
          "metadata": {
            "tags": []
          },
          "execution_count": 3
        }
      ]
    },
    {
      "cell_type": "code",
      "metadata": {
        "id": "RTUXAT8-2uSw",
        "colab_type": "code",
        "colab": {}
      },
      "source": [
        ""
      ],
      "execution_count": 0,
      "outputs": []
    },
    {
      "cell_type": "code",
      "metadata": {
        "id": "EDUj24fQ1M01",
        "colab_type": "code",
        "colab": {
          "base_uri": "https://localhost:8080/",
          "height": 386
        },
        "outputId": "6cc7265c-884b-465f-e297-01279374ad1e"
      },
      "source": [
        "# Compiling the LSTM Network and Fitting the data\n",
        "\n",
        "# Compiling the network\n",
        "classifier.compile(loss ='sparse_categorical_crossentropy', optimizer = Adam(lr = 0.001, decay= 1e-6), metrics =['accuracy'])\n",
        "\n",
        "#Fitting the data to the model\n",
        "classifier.fit(X_train, y_train, epochs = 10, validation_data = (X_test, y_test))"
      ],
      "execution_count": 4,
      "outputs": [
        {
          "output_type": "stream",
          "text": [
            "Train on 60000 samples, validate on 10000 samples\n",
            "Epoch 1/10\n",
            "60000/60000 [==============================] - 15s 245us/step - loss: 0.0560 - acc: 0.9841 - val_loss: 0.0586 - val_acc: 0.9823\n",
            "Epoch 2/10\n",
            "60000/60000 [==============================] - 15s 243us/step - loss: 0.0474 - acc: 0.9864 - val_loss: 0.0567 - val_acc: 0.9824\n",
            "Epoch 3/10\n",
            "60000/60000 [==============================] - 15s 243us/step - loss: 0.0430 - acc: 0.9873 - val_loss: 0.0420 - val_acc: 0.9889\n",
            "Epoch 4/10\n",
            "60000/60000 [==============================] - 15s 243us/step - loss: 0.0343 - acc: 0.9900 - val_loss: 0.0423 - val_acc: 0.9886\n",
            "Epoch 5/10\n",
            "60000/60000 [==============================] - 15s 244us/step - loss: 0.0302 - acc: 0.9914 - val_loss: 0.0474 - val_acc: 0.9872\n",
            "Epoch 6/10\n",
            "60000/60000 [==============================] - 15s 242us/step - loss: 0.0278 - acc: 0.9919 - val_loss: 0.0429 - val_acc: 0.9890\n",
            "Epoch 7/10\n",
            "60000/60000 [==============================] - 15s 243us/step - loss: 0.0246 - acc: 0.9927 - val_loss: 0.0452 - val_acc: 0.9879\n",
            "Epoch 8/10\n",
            "60000/60000 [==============================] - 15s 243us/step - loss: 0.0210 - acc: 0.9933 - val_loss: 0.0519 - val_acc: 0.9867\n",
            "Epoch 9/10\n",
            "60000/60000 [==============================] - 15s 244us/step - loss: 0.0199 - acc: 0.9944 - val_loss: 0.0433 - val_acc: 0.9879\n",
            "Epoch 10/10\n",
            "60000/60000 [==============================] - 14s 239us/step - loss: 0.0189 - acc: 0.9947 - val_loss: 0.0359 - val_acc: 0.9909\n"
          ],
          "name": "stdout"
        },
        {
          "output_type": "execute_result",
          "data": {
            "text/plain": [
              "<keras.callbacks.History at 0x7f8afc97ca20>"
            ]
          },
          "metadata": {
            "tags": []
          },
          "execution_count": 4
        }
      ]
    },
    {
      "cell_type": "code",
      "metadata": {
        "id": "eV0vjYTO0dSL",
        "colab_type": "code",
        "colab": {
          "base_uri": "https://localhost:8080/",
          "height": 67
        },
        "outputId": "87751871-1b86-4fcc-f9a0-f4fdbd219bb6"
      },
      "source": [
        "# Checking the Accuracy on Test Set\n",
        "\n",
        "test_loss, test_acc = classifier.evaluate(X_test, y_test)\n",
        "print('Test loss: {}'.format(test_loss))\n",
        "print('Test Accuracy: {}'.format(test_acc))"
      ],
      "execution_count": 6,
      "outputs": [
        {
          "output_type": "stream",
          "text": [
            "10000/10000 [==============================] - 1s 101us/step\n",
            "Test loss: 0.03589823577546631\n",
            "Test Accuracy: 0.9909\n"
          ],
          "name": "stdout"
        }
      ]
    }
  ]
}